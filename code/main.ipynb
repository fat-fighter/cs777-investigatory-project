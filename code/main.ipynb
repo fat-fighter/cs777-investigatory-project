{
 "cells": [
  {
   "cell_type": "code",
   "execution_count": 1,
   "metadata": {},
   "outputs": [],
   "source": [
    "%load_ext autoreload\n",
    "%autoreload 2"
   ]
  },
  {
   "cell_type": "code",
   "execution_count": 2,
   "metadata": {},
   "outputs": [],
   "source": [
    "import matplotlib as mpl\n",
    "import matplotlib.pyplot as plt\n",
    "\n",
    "mpl.rcParams = mpl.rc_params_from_file(\"includes/mlprc\")"
   ]
  },
  {
   "cell_type": "code",
   "execution_count": 3,
   "metadata": {},
   "outputs": [],
   "source": [
    "import numpy as np\n",
    "\n",
    "from includes import utils\n",
    "from includes import config\n",
    "from includes import algorithms"
   ]
  },
  {
   "cell_type": "code",
   "execution_count": 4,
   "metadata": {},
   "outputs": [],
   "source": [
    "def evaluate_algorithm(train_set, test_set, algorithm, verbose, *args):\n",
    "    if len(test_set) == 0:\n",
    "        np.random.shuffle(train_set)\n",
    "        \n",
    "        train_set, test_set = np.split(train_set, [int(train_set.shape[0] * 0.7)])\n",
    "        \n",
    "    predicted, model = algorithm(train_set, test_set, verbose, *args)\n",
    "\n",
    "    accuracy = np.mean(test_set[:, -1] == predicted) * 100\n",
    "\n",
    "    return accuracy, model"
   ]
  },
  {
   "cell_type": "code",
   "execution_count": 5,
   "metadata": {},
   "outputs": [],
   "source": [
    "train_set, test_set, n_classes = utils.get_data(\"iris\")"
   ]
  },
  {
   "cell_type": "code",
   "execution_count": 6,
   "metadata": {},
   "outputs": [],
   "source": [
    "conf = config.Config(verbose=False)"
   ]
  },
  {
   "cell_type": "code",
   "execution_count": 7,
   "metadata": {},
   "outputs": [
    {
     "name": "stdout",
     "output_type": "stream",
     "text": [
      "Softmax Regression\n",
      "Accuracy: 89.23076923076924\n"
     ]
    }
   ],
   "source": [
    "conf.set_algorithm(\"sft-reg\")\n",
    "accuracy, model = evaluate_algorithm(\n",
    "    train_set,\n",
    "    test_set,\n",
    "    algorithms.softmax_regression,\n",
    "    conf.verbose,\n",
    "    conf.lr,\n",
    "    n_classes,\n",
    "    conf.n_epochs,\n",
    "    conf.batch_size,\n",
    "    conf.tol\n",
    ")\n",
    "\n",
    "print \"Softmax Regression\"\n",
    "print \"Accuracy: %s\" % accuracy"
   ]
  },
  {
   "cell_type": "code",
   "execution_count": 8,
   "metadata": {
    "scrolled": true
   },
   "outputs": [
    {
     "name": "stdout",
     "output_type": "stream",
     "text": [
      "Boosted Softmax Regression, Activation = logistic\n",
      "Final Test Accuracy: 92.307692\n",
      "Boosted Softmax Regression, Activation = relu\n",
      "Final Test Accuracy: 76.153846\n",
      "Boosted Softmax Regression, Activation = tanh\n",
      "Final Test Accuracy: 96.923077\n",
      "Boosted Softmax Regression, Activation = identity\n",
      "Final Test Accuracy: 97.692308\n"
     ]
    }
   ],
   "source": [
    "conf.set_algorithm(\"boosted-sft-reg\")\n",
    "\n",
    "boosted_accuracies = []\n",
    "boosted_models = []\n",
    "for activation in [\"logistic\", \"relu\", \"tanh\", \"identity\"]:\n",
    "    accuracy, model = evaluate_algorithm(\n",
    "        train_set,\n",
    "        test_set,\n",
    "        algorithms.boosted_softmax_regression,\n",
    "        conf.verbose,\n",
    "        conf.lr,\n",
    "        n_classes,\n",
    "        conf.n_epochs,\n",
    "        conf.batch_size,\n",
    "        conf.m_stop,\n",
    "        conf.eta,\n",
    "        activation,\n",
    "        \"plots/sft-data-%s.npy\" % activation\n",
    "    )\n",
    "    \n",
    "    boosted_models.append(model)\n",
    "    boosted_accuracies.append(accuracy)\n",
    "\n",
    "    print \"Boosted Softmax Regression, Activation = %s\" % activation\n",
    "    print \"Final Test Accuracy: %f\" % accuracy"
   ]
  },
  {
   "cell_type": "code",
   "execution_count": 9,
   "metadata": {
    "scrolled": true
   },
   "outputs": [
    {
     "ename": "ValueError",
     "evalue": "could not broadcast input array from shape (2) into shape (3)",
     "output_type": "error",
     "traceback": [
      "\u001b[0;31m---------------------------------------------------------------------------\u001b[0m",
      "\u001b[0;31mValueError\u001b[0m                                Traceback (most recent call last)",
      "\u001b[0;32m<ipython-input-9-ea7030505240>\u001b[0m in \u001b[0;36m<module>\u001b[0;34m()\u001b[0m\n\u001b[1;32m     17\u001b[0m         \u001b[0mconf\u001b[0m\u001b[0;34m.\u001b[0m\u001b[0mbatch_size\u001b[0m\u001b[0;34m,\u001b[0m\u001b[0;34m\u001b[0m\u001b[0m\n\u001b[1;32m     18\u001b[0m         \u001b[0mconf\u001b[0m\u001b[0;34m.\u001b[0m\u001b[0mtol\u001b[0m\u001b[0;34m,\u001b[0m\u001b[0;34m\u001b[0m\u001b[0m\n\u001b[0;32m---> 19\u001b[0;31m         \u001b[0mboosted_models\u001b[0m\u001b[0;34m[\u001b[0m\u001b[0mindex\u001b[0m\u001b[0;34m]\u001b[0m\u001b[0;34m\u001b[0m\u001b[0m\n\u001b[0m\u001b[1;32m     20\u001b[0m     )\n\u001b[1;32m     21\u001b[0m \u001b[0;34m\u001b[0m\u001b[0m\n",
      "\u001b[0;32m<ipython-input-4-7b7f40c4f444>\u001b[0m in \u001b[0;36mevaluate_algorithm\u001b[0;34m(train_set, test_set, algorithm, verbose, *args)\u001b[0m\n\u001b[1;32m      5\u001b[0m         \u001b[0mtrain_set\u001b[0m\u001b[0;34m,\u001b[0m \u001b[0mtest_set\u001b[0m \u001b[0;34m=\u001b[0m \u001b[0mnp\u001b[0m\u001b[0;34m.\u001b[0m\u001b[0msplit\u001b[0m\u001b[0;34m(\u001b[0m\u001b[0mtrain_set\u001b[0m\u001b[0;34m,\u001b[0m \u001b[0;34m[\u001b[0m\u001b[0mint\u001b[0m\u001b[0;34m(\u001b[0m\u001b[0mtrain_set\u001b[0m\u001b[0;34m.\u001b[0m\u001b[0mshape\u001b[0m\u001b[0;34m[\u001b[0m\u001b[0;36m0\u001b[0m\u001b[0;34m]\u001b[0m \u001b[0;34m*\u001b[0m \u001b[0;36m0.7\u001b[0m\u001b[0;34m)\u001b[0m\u001b[0;34m]\u001b[0m\u001b[0;34m)\u001b[0m\u001b[0;34m\u001b[0m\u001b[0m\n\u001b[1;32m      6\u001b[0m \u001b[0;34m\u001b[0m\u001b[0m\n\u001b[0;32m----> 7\u001b[0;31m     \u001b[0mpredicted\u001b[0m\u001b[0;34m,\u001b[0m \u001b[0mmodel\u001b[0m \u001b[0;34m=\u001b[0m \u001b[0malgorithm\u001b[0m\u001b[0;34m(\u001b[0m\u001b[0mtrain_set\u001b[0m\u001b[0;34m,\u001b[0m \u001b[0mtest_set\u001b[0m\u001b[0;34m,\u001b[0m \u001b[0mverbose\u001b[0m\u001b[0;34m,\u001b[0m \u001b[0;34m*\u001b[0m\u001b[0margs\u001b[0m\u001b[0;34m)\u001b[0m\u001b[0;34m\u001b[0m\u001b[0m\n\u001b[0m\u001b[1;32m      8\u001b[0m \u001b[0;34m\u001b[0m\u001b[0m\n\u001b[1;32m      9\u001b[0m     \u001b[0maccuracy\u001b[0m \u001b[0;34m=\u001b[0m \u001b[0mnp\u001b[0m\u001b[0;34m.\u001b[0m\u001b[0mmean\u001b[0m\u001b[0;34m(\u001b[0m\u001b[0mtest_set\u001b[0m\u001b[0;34m[\u001b[0m\u001b[0;34m:\u001b[0m\u001b[0;34m,\u001b[0m \u001b[0;34m-\u001b[0m\u001b[0;36m1\u001b[0m\u001b[0;34m]\u001b[0m \u001b[0;34m==\u001b[0m \u001b[0mpredicted\u001b[0m\u001b[0;34m)\u001b[0m \u001b[0;34m*\u001b[0m \u001b[0;36m100\u001b[0m\u001b[0;34m\u001b[0m\u001b[0m\n",
      "\u001b[0;32m/home/fat-fighter/Documents/machine-learning/cs777-project/investigatory/code/includes/algorithms.pyc\u001b[0m in \u001b[0;36mpretrained_mlp\u001b[0;34m(train_set, test_set, verbose, l_rate, n_classes, activation, n_epochs, batch_size, tol, bm)\u001b[0m\n\u001b[1;32m    151\u001b[0m \u001b[0;34m\u001b[0m\u001b[0m\n\u001b[1;32m    152\u001b[0m     \u001b[0mmodel\u001b[0m\u001b[0;34m.\u001b[0m\u001b[0mcoefs_\u001b[0m\u001b[0;34m[\u001b[0m\u001b[0;36m0\u001b[0m\u001b[0;34m]\u001b[0m\u001b[0;34m[\u001b[0m\u001b[0;34m:\u001b[0m\u001b[0;34m,\u001b[0m \u001b[0;36m0\u001b[0m\u001b[0;34m]\u001b[0m \u001b[0;34m=\u001b[0m \u001b[0mbm\u001b[0m\u001b[0;34m.\u001b[0m\u001b[0mcoefficients_input\u001b[0m\u001b[0;34m[\u001b[0m\u001b[0;34m:\u001b[0m\u001b[0;34m,\u001b[0m \u001b[0;36m0\u001b[0m\u001b[0;34m]\u001b[0m\u001b[0;34m\u001b[0m\u001b[0m\n\u001b[0;32m--> 153\u001b[0;31m     \u001b[0mmodel\u001b[0m\u001b[0;34m.\u001b[0m\u001b[0mcoefs_\u001b[0m\u001b[0;34m[\u001b[0m\u001b[0;36m1\u001b[0m\u001b[0;34m]\u001b[0m\u001b[0;34m[\u001b[0m\u001b[0;36m0\u001b[0m\u001b[0;34m,\u001b[0m \u001b[0;34m:\u001b[0m\u001b[0;34m]\u001b[0m \u001b[0;34m=\u001b[0m \u001b[0mbm\u001b[0m\u001b[0;34m.\u001b[0m\u001b[0mcoefficients_hidden\u001b[0m\u001b[0;34m[\u001b[0m\u001b[0;34m:\u001b[0m\u001b[0;34m,\u001b[0m \u001b[0;36m0\u001b[0m\u001b[0;34m]\u001b[0m\u001b[0;34m\u001b[0m\u001b[0m\n\u001b[0m\u001b[1;32m    154\u001b[0m \u001b[0;34m\u001b[0m\u001b[0m\n\u001b[1;32m    155\u001b[0m     \u001b[0;32mfor\u001b[0m \u001b[0mhn\u001b[0m \u001b[0;32min\u001b[0m \u001b[0mrange\u001b[0m\u001b[0;34m(\u001b[0m\u001b[0;36m1\u001b[0m\u001b[0;34m,\u001b[0m \u001b[0mhidden_size\u001b[0m\u001b[0;34m)\u001b[0m\u001b[0;34m:\u001b[0m\u001b[0;34m\u001b[0m\u001b[0m\n",
      "\u001b[0;31mValueError\u001b[0m: could not broadcast input array from shape (2) into shape (3)"
     ]
    }
   ],
   "source": [
    "conf.set_algorithm(\"multi-mlp\")\n",
    "\n",
    "pretrained_mlp_models = []\n",
    "pretrained_mlp_accuracies = []\n",
    "\n",
    "activations = [\"logistic\", \"relu\", \"tanh\", \"identity\"]\n",
    "for index, activation in enumerate(activations):\n",
    "    accuracy, model = evaluate_algorithm(\n",
    "        train_set,\n",
    "        test_set,\n",
    "        algorithms.pretrained_mlp,\n",
    "        conf.verbose,\n",
    "        conf.lr,\n",
    "        n_classes,\n",
    "        activation,\n",
    "        conf.n_epochs,\n",
    "        conf.batch_size,\n",
    "        conf.tol,\n",
    "        boosted_models[index]\n",
    "    )\n",
    "    \n",
    "    pretrained_mlp_accuracies.append(accuracy)\n",
    "    pretrained_mlp_models.append(model)\n",
    "\n",
    "    print \"Boosted + MLP, Activation = %s\" % activation\n",
    "    print \"Final Test Accuracy: %f\" % accuracy"
   ]
  },
  {
   "cell_type": "code",
   "execution_count": 11,
   "metadata": {
    "scrolled": true
   },
   "outputs": [
    {
     "name": "stdout",
     "output_type": "stream",
     "text": [
      "Multi Layer Perceptron, Activation = logistic\n",
      "Accuracy: 38.461538\n",
      "Multi Layer Perceptron, Activation = relu\n",
      "Accuracy: 97.692308\n",
      "Multi Layer Perceptron, Activation = tanh\n",
      "Accuracy: 40.000000\n",
      "Multi Layer Perceptron, Activation = identity\n",
      "Accuracy: 38.461538\n"
     ]
    }
   ],
   "source": [
    "conf.set_algorithm(\"multi-mlp\")\n",
    "\n",
    "mlp_models = []\n",
    "mlp_accuracies = []\n",
    "\n",
    "activations = [\"logistic\", \"relu\", \"tanh\", \"identity\"]\n",
    "for activation in activations:\n",
    "    accuracy, model = evaluate_algorithm(\n",
    "        train_set,\n",
    "        test_set,\n",
    "        algorithms.mlp,\n",
    "        conf.verbose,\n",
    "        conf.lr,\n",
    "        n_classes,\n",
    "        activation,\n",
    "        conf.n_epochs,\n",
    "        conf.batch_size,\n",
    "        conf.hidden_size,\n",
    "        conf.tol / 10\n",
    "    )\n",
    "    \n",
    "    mlp_accuracies.append(accuracy)\n",
    "    mlp_models.append(model)\n",
    "\n",
    "    print \"Multi Layer Perceptron, Activation = %s\" % activation\n",
    "    print \"Accuracy: %f\" % accuracy"
   ]
  },
  {
   "cell_type": "code",
   "execution_count": null,
   "metadata": {},
   "outputs": [],
   "source": [
    "for i in range(4):\n",
    "    print \"%.6f  %.6f  %.6f\" % (boosted_accuracies[i], mlp_accuracies[i], pretrained_mlp_accuracies[i])"
   ]
  },
  {
   "cell_type": "code",
   "execution_count": null,
   "metadata": {},
   "outputs": [],
   "source": [
    "colors = [\"blue\", \"red\", \"green\", \"orange\"]\n",
    "activations = [\"logistic\", \"relu\", \"tanh\", \"identity\"]\n",
    "\n",
    "for color, activation in zip(colors, activations):\n",
    "    data = np.load(\"plots/sft-data-%s.npy\" % activation)\n",
    "    plt.plot(data, label=activation, color=color)\n",
    "    \n",
    "plt.xlabel(\"m_stop\")\n",
    "plt.ylabel(\"test accuracy\")\n",
    "    \n",
    "plt.legend()\n",
    "plt.tight_layout()\n",
    "plt.savefig(\"plots/plot.png\", transparent=True)\n",
    "plt.show()"
   ]
  }
 ],
 "metadata": {
  "kernelspec": {
   "display_name": "Python2 (Machine Learning)",
   "language": "python",
   "name": "ml"
  },
  "language_info": {
   "codemirror_mode": {
    "name": "ipython",
    "version": 2
   },
   "file_extension": ".py",
   "mimetype": "text/x-python",
   "name": "python",
   "nbconvert_exporter": "python",
   "pygments_lexer": "ipython2",
   "version": "2.7.14"
  }
 },
 "nbformat": 4,
 "nbformat_minor": 2
}
