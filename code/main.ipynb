{
 "cells": [
  {
   "cell_type": "code",
   "execution_count": null,
   "metadata": {},
   "outputs": [],
   "source": [
    "%load_ext autoreload\n",
    "%autoreload 2"
   ]
  },
  {
   "cell_type": "code",
   "execution_count": null,
   "metadata": {},
   "outputs": [],
   "source": [
    "import numpy as np\n",
    "\n",
    "from includes import utils\n",
    "from includes import config\n",
    "from includes import algorithms"
   ]
  },
  {
   "cell_type": "code",
   "execution_count": null,
   "metadata": {},
   "outputs": [],
   "source": [
    "def kfold_evaluate_algorithm(dataset, algorithm, eval_seed, n_folds, verbose, *args):\n",
    "    np.random.seed(eval_seed)\n",
    "    folds = utils.folds(dataset, n_folds)\n",
    "    np.random.seed(np.random.randint(0, 100))\n",
    "\n",
    "    scores = list()\n",
    "    for n_fold in range(n_folds):\n",
    "        if verbose:\n",
    "            print \"\\033[1mStarting fold %d\\033[0m\\n\" % (n_fold + 1)\n",
    "            \n",
    "        indices = [True] * n_folds\n",
    "        indices[n_fold] = False\n",
    "\n",
    "        train_set = np.concatenate(folds[indices], axis=0)\n",
    "\n",
    "        test_set = folds[n_fold]\n",
    "\n",
    "        predicted = algorithm(train_set, test_set, verbose, *args)\n",
    "\n",
    "        accuracy = np.mean(test_set[:, -1] == predicted) * 100\n",
    "        scores.append(accuracy)\n",
    "\n",
    "    return scores"
   ]
  },
  {
   "cell_type": "code",
   "execution_count": null,
   "metadata": {},
   "outputs": [],
   "source": [
    "def evaluate_algorithm(train_set, test_set, algorithm, verbose, *args):\n",
    "    np.random.seed(np.random.randint(0, 100))\n",
    "\n",
    "    predicted, model = algorithm(train_set, test_set, verbose, *args)\n",
    "\n",
    "    accuracy = np.mean(test_set[:, -1] == predicted) * 100\n",
    "\n",
    "    return accuracy, model"
   ]
  },
  {
   "cell_type": "markdown",
   "metadata": {
    "heading_collapsed": true
   },
   "source": [
    "## Diabetes Dataset"
   ]
  },
  {
   "cell_type": "code",
   "execution_count": null,
   "metadata": {
    "hidden": true
   },
   "outputs": [],
   "source": [
    "dataset, _ = utils.get_data(\"diabetes\")\n",
    "conf = config.Config()"
   ]
  },
  {
   "cell_type": "code",
   "execution_count": null,
   "metadata": {
    "hidden": true
   },
   "outputs": [],
   "source": [
    "conf.set_algorithm(\"log-reg\")\n",
    "scores = kfold_evaluate_algorithm(\n",
    "    dataset,\n",
    "    algorithms.logistic_regression,\n",
    "    conf.eval_seed,\n",
    "    conf.n_folds,\n",
    "    conf.verbose,\n",
    "    conf.lr,\n",
    "    conf.n_epochs,\n",
    "    conf.batch_size,\n",
    "    conf.tol\n",
    ")\n",
    "\n",
    "print \"Logistic Regression\"\n",
    "print \"\\tScores: %s\" % scores\n",
    "print \"\\tMean Accuracy: %.3f%%\" % (sum(scores)/float(len(scores)))"
   ]
  },
  {
   "cell_type": "code",
   "execution_count": null,
   "metadata": {
    "hidden": true,
    "scrolled": false
   },
   "outputs": [],
   "source": [
    "conf.set_algorithm(\"boosted-log-reg\")\n",
    "scores = kfold_evaluate_algorithm(\n",
    "    dataset,\n",
    "    algorithms.boosted_logistic_regression,\n",
    "    conf.eval_seed,\n",
    "    conf.n_folds,\n",
    "    conf.verbose,\n",
    "    conf.l_rate,\n",
    "    conf.eta,\n",
    "    conf.eta_decay,\n",
    "    conf.n_epochs,\n",
    "    conf.batch_size,\n",
    "    conf.tol,\n",
    "    conf.m_stop\n",
    ")\n",
    "\n",
    "print \"Boosted Logistic Regression\"\n",
    "print \"\\tScores: %s\" % scores\n",
    "print \"\\tMean Accuracy: %.3f%%\" % (sum(scores)/float(len(scores)))"
   ]
  },
  {
   "cell_type": "code",
   "execution_count": null,
   "metadata": {
    "hidden": true
   },
   "outputs": [],
   "source": [
    "conf.set_algorithm(\"mlp\")\n",
    "scores = kfold_evaluate_algorithm(\n",
    "    dataset,\n",
    "    algorithms.mlp,\n",
    "    conf.eval_seed,\n",
    "    conf.n_folds,\n",
    "    conf.verbose,\n",
    "    conf.lr,\n",
    "    conf.n_epochs,\n",
    "    conf.batch_size,\n",
    "    conf.hidden_size\n",
    ")\n",
    "\n",
    "print \"Multi Layer Perceptron\"\n",
    "print \"\\tScores: %s\" % scores\n",
    "print \"\\tMean Accuracy: %.3f%%\" % (sum(scores)/float(len(scores)))\n",
    "print \"\""
   ]
  },
  {
   "cell_type": "markdown",
   "metadata": {},
   "source": [
    "## MNIST Dataset"
   ]
  },
  {
   "cell_type": "code",
   "execution_count": null,
   "metadata": {},
   "outputs": [],
   "source": [
    "train_set, test_set, n_classes = utils.get_data(\"mnist\")"
   ]
  },
  {
   "cell_type": "code",
   "execution_count": null,
   "metadata": {},
   "outputs": [],
   "source": [
    "conf = config.Config()"
   ]
  },
  {
   "cell_type": "code",
   "execution_count": null,
   "metadata": {
    "scrolled": true
   },
   "outputs": [],
   "source": [
    "conf.set_algorithm(\"sft-reg\")\n",
    "accuracy = evaluate_algorithm(\n",
    "    train_set,\n",
    "    test_set,\n",
    "    algorithms.softmax_regression,\n",
    "    conf.verbose,\n",
    "    conf.lr,\n",
    "    n_classes,\n",
    "    conf.n_epochs,\n",
    "    conf.batch_size,\n",
    "    conf.tol\n",
    ")\n",
    "\n",
    "print \"Softmax Regression\"\n",
    "print \"Accuracy: %s\" % accuracy"
   ]
  },
  {
   "cell_type": "code",
   "execution_count": null,
   "metadata": {
    "scrolled": true
   },
   "outputs": [],
   "source": [
    "conf.set_algorithm(\"boosted-sft-reg\")\n",
    "accuracy, model = evaluate_algorithm(\n",
    "    train_set,\n",
    "    test_set,\n",
    "    algorithms.boosted_softmax_regression,\n",
    "    conf.verbose,\n",
    "    conf.lr,\n",
    "    n_classes,\n",
    "    conf.n_epochs,\n",
    "    conf.batch_size,\n",
    "    conf.m_stop,\n",
    "    conf.eta\n",
    ")\n",
    "\n",
    "print \"Boosted Softmax Regression\"\n",
    "print \"Final Test Accuracy: %s\" % accuracy"
   ]
  },
  {
   "cell_type": "code",
   "execution_count": null,
   "metadata": {
    "scrolled": true
   },
   "outputs": [],
   "source": [
    "conf.set_algorithm(\"multi-mlp\")\n",
    "accuracy = evaluate_algorithm(\n",
    "    train_set,\n",
    "    test_set,\n",
    "    algorithms.multi_mlp,\n",
    "    conf.verbose,\n",
    "    conf.lr,\n",
    "    n_classes,\n",
    "    conf.n_epochs,\n",
    "    conf.batch_size,\n",
    "    conf.hidden_size,\n",
    "    conf.tol\n",
    ")\n",
    "\n",
    "print \"Multi Layer Perceptron\"\n",
    "print \"Accuracy: %s\" % accuracy"
   ]
  }
 ],
 "metadata": {
  "kernelspec": {
   "display_name": "Python2 (Machine Learning)",
   "language": "python",
   "name": "ml"
  },
  "language_info": {
   "codemirror_mode": {
    "name": "ipython",
    "version": 2
   },
   "file_extension": ".py",
   "mimetype": "text/x-python",
   "name": "python",
   "nbconvert_exporter": "python",
   "pygments_lexer": "ipython2",
   "version": "2.7.14"
  }
 },
 "nbformat": 4,
 "nbformat_minor": 2
}
