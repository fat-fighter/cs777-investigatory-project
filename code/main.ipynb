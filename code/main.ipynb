{
 "cells": [
  {
   "cell_type": "code",
   "execution_count": null,
   "metadata": {},
   "outputs": [],
   "source": [
    "%load_ext autoreload\n",
    "%autoreload 2"
   ]
  },
  {
   "cell_type": "code",
   "execution_count": null,
   "metadata": {},
   "outputs": [],
   "source": [
    "import matplotlib as mpl\n",
    "import matplotlib.pyplot as plt"
   ]
  },
  {
   "cell_type": "code",
   "execution_count": null,
   "metadata": {},
   "outputs": [],
   "source": [
    "import numpy as np\n",
    "\n",
    "from includes import utils\n",
    "from includes import config\n",
    "from includes import algorithms"
   ]
  },
  {
   "cell_type": "code",
   "execution_count": null,
   "metadata": {},
   "outputs": [],
   "source": [
    "def evaluate_algorithm(train_set, test_set, algorithm, verbose, *args):\n",
    "    if len(test_set) == 0:\n",
    "        np.random.shuffle(train_set)\n",
    "        \n",
    "        train_set, test_set = np.split(train_set, [int(train_set.shape[0] * 0.7)])\n",
    "        \n",
    "    predicted, model = algorithm(train_set, test_set, verbose, *args)\n",
    "\n",
    "    accuracy = np.mean(test_set[:, -1] == predicted) * 100\n",
    "\n",
    "    return accuracy, model"
   ]
  },
  {
   "cell_type": "code",
   "execution_count": null,
   "metadata": {},
   "outputs": [],
   "source": [
    "train_set, test_set, n_classes = utils.get_data(\"iris\")"
   ]
  },
  {
   "cell_type": "code",
   "execution_count": null,
   "metadata": {},
   "outputs": [],
   "source": [
    "conf = config.Config(verbose=False)"
   ]
  },
  {
   "cell_type": "code",
   "execution_count": null,
   "metadata": {},
   "outputs": [],
   "source": [
    "conf.set_algorithm(\"sft-reg\")\n",
    "accuracy, model = evaluate_algorithm(\n",
    "    train_set,\n",
    "    test_set,\n",
    "    algorithms.softmax_regression,\n",
    "    conf.verbose,\n",
    "    conf.lr,\n",
    "    n_classes,\n",
    "    conf.n_epochs,\n",
    "    conf.batch_size,\n",
    "    conf.tol\n",
    ")\n",
    "\n",
    "print \"Softmax Regression\"\n",
    "print \"Accuracy: %s\" % accuracy"
   ]
  },
  {
   "cell_type": "code",
   "execution_count": null,
   "metadata": {
    "scrolled": true
   },
   "outputs": [],
   "source": [
    "conf.set_algorithm(\"boosted-sft-reg\")\n",
    "\n",
    "boosted_accuracies = []\n",
    "boosted_models = []\n",
    "for activation in [\"logistic\", \"relu\", \"tanh\", \"identity\"]:\n",
    "    accuracy, model = evaluate_algorithm(\n",
    "        train_set,\n",
    "        test_set,\n",
    "        algorithms.boosted_softmax_regression,\n",
    "        conf.verbose,\n",
    "        conf.lr,\n",
    "        n_classes,\n",
    "        conf.n_epochs,\n",
    "        conf.batch_size,\n",
    "        conf.m_stop,\n",
    "        conf.eta,\n",
    "        activation,\n",
    "        \"plots/sft-data-%s.npy\" % activation\n",
    "    )\n",
    "    \n",
    "    boosted_models.append(model)\n",
    "    boosted_accuracies.append(accuracy)\n",
    "\n",
    "    print \"Boosted Softmax Regression, Activation = %s\" % activation\n",
    "    print \"Final Test Accuracy: %f\" % accuracy"
   ]
  },
  {
   "cell_type": "code",
   "execution_count": null,
   "metadata": {
    "scrolled": true
   },
   "outputs": [],
   "source": [
    "conf.set_algorithm(\"multi-mlp\")\n",
    "\n",
    "pretrained_mlp_models = []\n",
    "pretrained_mlp_accuracies = []\n",
    "\n",
    "activations = [\"logistic\", \"relu\", \"tanh\", \"identity\"]\n",
    "for index, activation in enumerate(activations):\n",
    "    accuracy, model = evaluate_algorithm(\n",
    "        train_set,\n",
    "        test_set,\n",
    "        algorithms.pretrained_mlp,\n",
    "        conf.verbose,\n",
    "        conf.lr,\n",
    "        n_classes,\n",
    "        activation,\n",
    "        conf.n_epochs,\n",
    "        conf.batch_size,\n",
    "        conf.tol,\n",
    "        boosted_models[index]\n",
    "    )\n",
    "    \n",
    "    pretrained_mlp_accuracies.append(accuracy)\n",
    "    pretrained_mlp_models.append(model)\n",
    "\n",
    "    print \"Boosted + MLP, Activation = %s\" % activation\n",
    "    print \"Final Test Accuracy: %f\" % accuracy"
   ]
  },
  {
   "cell_type": "code",
   "execution_count": null,
   "metadata": {
    "scrolled": true
   },
   "outputs": [],
   "source": [
    "conf.set_algorithm(\"multi-mlp\")\n",
    "\n",
    "mlp_models = []\n",
    "mlp_accuracies = []\n",
    "\n",
    "activations = [\"logistic\", \"relu\", \"tanh\", \"identity\"]\n",
    "for activation in activations:\n",
    "    accuracy, model = evaluate_algorithm(\n",
    "        train_set,\n",
    "        test_set,\n",
    "        algorithms.mlp,\n",
    "        conf.verbose,\n",
    "        conf.lr,\n",
    "        n_classes,\n",
    "        activation,\n",
    "        conf.n_epochs,\n",
    "        conf.batch_size,\n",
    "        conf.hidden_size,\n",
    "        conf.tol / 10\n",
    "    )\n",
    "    \n",
    "    mlp_accuracies.append(accuracy)\n",
    "    mlp_models.append(model)\n",
    "\n",
    "    print \"Multi Layer Perceptron, Activation = %s\" % activation\n",
    "    print \"Accuracy: %f\" % accuracy"
   ]
  },
  {
   "cell_type": "code",
   "execution_count": null,
   "metadata": {},
   "outputs": [],
   "source": [
    "for i in range(4):\n",
    "    print \"%.6f  %.6f  %.6f\" % (boosted_accuracies[i], mlp_accuracies[i], pretrained_mlp_accuracies[i])"
   ]
  },
  {
   "cell_type": "code",
   "execution_count": null,
   "metadata": {},
   "outputs": [],
   "source": [
    "colors = [\"blue\", \"red\", \"green\", \"orange\"]\n",
    "activations = [\"logistic\", \"relu\", \"tanh\", \"identity\"]\n",
    "\n",
    "for color, activation in zip(colors, activations):\n",
    "    data = np.load(\"plots/sft-data-%s.npy\" % activation)\n",
    "    plt.plot(data, label=activation, color=color)\n",
    "    \n",
    "plt.xlabel(\"m_stop\")\n",
    "plt.ylabel(\"test accuracy\")\n",
    "    \n",
    "plt.legend()\n",
    "plt.tight_layout()\n",
    "plt.savefig(\"plots/plot.png\", transparent=True)\n",
    "plt.show()"
   ]
  }
 ],
 "metadata": {
  "kernelspec": {
   "display_name": "Python2 (Machine Learning)",
   "language": "python",
   "name": "ml"
  },
  "language_info": {
   "codemirror_mode": {
    "name": "ipython",
    "version": 2
   },
   "file_extension": ".py",
   "mimetype": "text/x-python",
   "name": "python",
   "nbconvert_exporter": "python",
   "pygments_lexer": "ipython2",
   "version": "2.7.14"
  }
 },
 "nbformat": 4,
 "nbformat_minor": 2
}
